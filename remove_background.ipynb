{
 "cells": [
  {
   "cell_type": "markdown",
   "id": "743e6b33",
   "metadata": {},
   "source": [
    "# Como remover fundo de imagem em Python\n",
    "\n",
    "Uma das principais ferramentas utilizadas no design é a remoção de fundo para a criação de artes. Neste código, em poucas linhas, você conseguirá fazer essa remoção de forma automatizada."
   ]
  },
  {
   "cell_type": "markdown",
   "id": "ea3c53df",
   "metadata": {},
   "source": [
    "1. Instale as seguintes bibliotecas com \"pip install\":\n",
    "- Pillow (ou PIL): biblioteca que adiciona suporte à abertura e gravação de muitos formatos de imagem diferentes.\n",
    "- Rembg: ferramenta para a remoção de \"backgrounds\"."
   ]
  },
  {
   "cell_type": "code",
   "execution_count": null,
   "id": "d0046515",
   "metadata": {},
   "outputs": [],
   "source": [
    "pip install pillow"
   ]
  },
  {
   "cell_type": "code",
   "execution_count": null,
   "id": "6abb929d",
   "metadata": {},
   "outputs": [],
   "source": [
    "pip install rembg"
   ]
  },
  {
   "cell_type": "markdown",
   "id": "f6c660b6",
   "metadata": {},
   "source": [
    "2. Importe as seguintes funcionalidades:"
   ]
  },
  {
   "cell_type": "code",
   "execution_count": 1,
   "id": "b9af0425",
   "metadata": {},
   "outputs": [],
   "source": [
    "from rembg import remove\n",
    "from PIL import Image"
   ]
  },
  {
   "cell_type": "markdown",
   "id": "7f9b1bf5",
   "metadata": {},
   "source": [
    "3. Aplique a imagem seleciona em uma variável, colocando o local do arquivo dentro do parênteses."
   ]
  },
  {
   "cell_type": "code",
   "execution_count": 2,
   "id": "ed7a3097",
   "metadata": {},
   "outputs": [],
   "source": [
    "img = Image.open('F:\\Pastas\\Downloads\\Curva-Concepts-C300-Staggered-Ford-Mustang-Wheels-1.jpg')"
   ]
  },
  {
   "cell_type": "markdown",
   "id": "3e038e98",
   "metadata": {},
   "source": [
    "4. O seguinte comando utilizará a ferramenta \"remove\" para remover o fundo da imagem."
   ]
  },
  {
   "cell_type": "code",
   "execution_count": 3,
   "id": "b8960220",
   "metadata": {
    "scrolled": true
   },
   "outputs": [
    {
     "name": "stderr",
     "output_type": "stream",
     "text": [
      "Downloading data from 'https://github.com/danielgatis/rembg/releases/download/v0.0.0/u2net.onnx' to file 'C:\\Users\\junio\\.u2net\\u2net.onnx'.\n",
      "100%|########################################| 176M/176M [00:00<00:00, 176GB/s]\n"
     ]
    }
   ],
   "source": [
    "img_semfundo = remove(img)"
   ]
  },
  {
   "cell_type": "markdown",
   "id": "cda25f4a",
   "metadata": {},
   "source": [
    "5. Logo após a finalização, baixe a imagem especificando o local e pronto!"
   ]
  },
  {
   "cell_type": "code",
   "execution_count": 5,
   "id": "c5320e4a",
   "metadata": {},
   "outputs": [],
   "source": [
    "img_semfundo.save('F:\\Pastas\\Downloads\\imagem_sem_fundo.png')"
   ]
  },
  {
   "cell_type": "markdown",
   "id": "696dd655",
   "metadata": {},
   "source": [
    "##### Quer saber um pouco mais sobre as ferramentas utilizadas? Acesse:\n",
    "\n",
    "- PIL: https://pypi.org/project/Pillow/\n",
    "- Rembg: https://github.com/danielgatis/rembg"
   ]
  },
  {
   "cell_type": "markdown",
   "id": "408773dc",
   "metadata": {},
   "source": [
    "Cleydson Junior - 28.06.23"
   ]
  }
 ],
 "metadata": {
  "kernelspec": {
   "display_name": "Python 3 (ipykernel)",
   "language": "python",
   "name": "python3"
  },
  "language_info": {
   "codemirror_mode": {
    "name": "ipython",
    "version": 3
   },
   "file_extension": ".py",
   "mimetype": "text/x-python",
   "name": "python",
   "nbconvert_exporter": "python",
   "pygments_lexer": "ipython3",
   "version": "3.9.13"
  }
 },
 "nbformat": 4,
 "nbformat_minor": 5
}
